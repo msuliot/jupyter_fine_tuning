{
 "cells": [
  {
   "cell_type": "markdown",
   "metadata": {},
   "source": [
    "# Clean up tasks for OpenAI"
   ]
  },
  {
   "cell_type": "markdown",
   "metadata": {},
   "source": [
    "## Open AI / ChatGPT\n",
    "\n",
    "Make sure to get an OpenAI key from https://platform.openai.com/account/api-keys\n",
    "\n",
    "Create a \".env\" file and put your OpenAI key in that file\n",
    "```bash\n",
    "OPENAI_API_KEY='your_key_here'\n",
    "```"
   ]
  },
  {
   "cell_type": "code",
   "execution_count": null,
   "metadata": {},
   "outputs": [],
   "source": [
    "import openai\n",
    "\n",
    "# get keys from .env file\n",
    "import os\n",
    "from dotenv import load_dotenv\n",
    "load_dotenv()\n",
    "openai.api_key = os.getenv('OPENAI_API_KEY')\n"
   ]
  },
  {
   "cell_type": "markdown",
   "metadata": {},
   "source": [
    "## Bunch of definitions"
   ]
  },
  {
   "cell_type": "code",
   "execution_count": null,
   "metadata": {},
   "outputs": [],
   "source": [
    "def delete_file(file_id):\n",
    "    try:\n",
    "        openai.File.delete(file_id)\n",
    "        print(\"File deleted successfully\")\n",
    "    except Exception as e:\n",
    "        print(\"Error deleting file: \", e)\n",
    "\n",
    "\n",
    "def delete_finetune_model(model_id):\n",
    "    try:\n",
    "        openai.Model.delete(model_id)\n",
    "        print(\"Model has been deleted successfully\")\n",
    "    except Exception as e:\n",
    "        print(\"Error deleting model: \", e)\n",
    "\n",
    "\n",
    "def download_file(file_id, filename=\"downloaded.jsonl\"):\n",
    "    try:\n",
    "        # Download the file\n",
    "        the_file = openai.File.download(file_id)\n",
    "        data_str = the_file.decode('utf-8')\n",
    "        with open(filename, 'w') as file:\n",
    "            file.write(data_str)\n",
    "        print(\"File downloaded successfully\")\n",
    "    except Exception as e:\n",
    "        print(\"Error downloading file: \", e)\n",
    "\n",
    "def delete_all_files():\n",
    "    file_list = openai.File.list()\n",
    "    for file in file_list['data']:\n",
    "        print(file['id'], file['purpose'], file['status'])\n",
    "        delete_file(file['id'])\n",
    "\n",
    "def delete_all_models():\n",
    "    model_list = openai.FineTuningJob.list(limit=50)\n",
    "    for model in model_list['data']:\n",
    "        print(model['status'], model['fine_tuned_model'])\n",
    "        delete_finetune_model(model['fine_tuned_model'])\n",
    "\n",
    "def list_files():\n",
    "    print(\"\\n===== File List =====\")\n",
    "    file_list = openai.File.list()\n",
    "    for file in file_list['data']:\n",
    "        print(file['id'], file['purpose'], file['status'])\n",
    "\n",
    "def list_models():\n",
    "    print(\"\\n===== Model List =====\")\n",
    "    model_list = openai.FineTuningJob.list(limit=50)\n",
    "    for model in model_list['data']:\n",
    "        print(model['status'], model['fine_tuned_model'])"
   ]
  },
  {
   "cell_type": "markdown",
   "metadata": {},
   "source": [
    "## List training files\n",
    "- Get a list of all training files"
   ]
  },
  {
   "cell_type": "code",
   "execution_count": null,
   "metadata": {},
   "outputs": [],
   "source": [
    "list_files()"
   ]
  },
  {
   "cell_type": "markdown",
   "metadata": {},
   "source": [
    "## List Model files"
   ]
  },
  {
   "cell_type": "code",
   "execution_count": null,
   "metadata": {},
   "outputs": [],
   "source": [
    "list_models()"
   ]
  },
  {
   "cell_type": "markdown",
   "metadata": {},
   "source": [
    "## Delete a training file\n",
    "- In order to delete a training file, you need to have the training file ID.\n",
    "- You can get the training file ID from the training file list. (list_files)"
   ]
  },
  {
   "cell_type": "code",
   "execution_count": null,
   "metadata": {},
   "outputs": [],
   "source": [
    "delete_file(\"training_file_id\")  "
   ]
  },
  {
   "cell_type": "markdown",
   "metadata": {},
   "source": [
    "## Delete all training files\n",
    "- This will delete all training files"
   ]
  },
  {
   "cell_type": "code",
   "execution_count": null,
   "metadata": {},
   "outputs": [],
   "source": [
    "delete_all_files()"
   ]
  },
  {
   "cell_type": "markdown",
   "metadata": {},
   "source": [
    "## Delete a model\n",
    "- In order to delete a model, you need to have the fine training model id.\n",
    "- You can get the model id from the model list. (list_models)\n",
    "- NOTE: When you delete a model model of no longer be accessible, but it still show up on the list"
   ]
  },
  {
   "cell_type": "code",
   "execution_count": null,
   "metadata": {},
   "outputs": [],
   "source": [
    "delete_finetune_model(\"fine_model_id\")"
   ]
  },
  {
   "cell_type": "markdown",
   "metadata": {},
   "source": [
    "## Delete all models\n",
    "- This will delete all models"
   ]
  },
  {
   "cell_type": "code",
   "execution_count": null,
   "metadata": {},
   "outputs": [],
   "source": [
    "delete_all_models()"
   ]
  }
 ],
 "metadata": {
  "kernelspec": {
   "display_name": "Python 3 (ipykernel)",
   "language": "python",
   "name": "python3"
  },
  "language_info": {
   "codemirror_mode": {
    "name": "ipython",
    "version": 3
   },
   "file_extension": ".py",
   "mimetype": "text/x-python",
   "name": "python",
   "nbconvert_exporter": "python",
   "pygments_lexer": "ipython3",
   "version": "3.11.5"
  }
 },
 "nbformat": 4,
 "nbformat_minor": 4
}

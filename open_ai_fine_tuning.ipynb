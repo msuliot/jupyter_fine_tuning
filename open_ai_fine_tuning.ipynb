{
 "cells": [
  {
   "cell_type": "markdown",
   "id": "6945bf1d-21a8-4b29-900a-a9254b766385",
   "metadata": {},
   "source": [
    "# OpenAI Fine Tuning Tutorial\n",
    "\n",
    "## Install Required Libraries"
   ]
  },
  {
   "cell_type": "code",
   "execution_count": null,
   "id": "5d039a03-3e6e-4cd1-9f69-043b4dec5d2c",
   "metadata": {},
   "outputs": [],
   "source": [
    "!pip3 install openai python-dotenv"
   ]
  },
  {
   "cell_type": "markdown",
   "id": "bb554cce",
   "metadata": {},
   "source": [
    "Importing Libraries"
   ]
  },
  {
   "cell_type": "code",
   "execution_count": null,
   "id": "afb40373-7f6f-49cd-8650-b839f0af1f02",
   "metadata": {},
   "outputs": [],
   "source": [
    "import json\n",
    "import openai\n",
    "import datetime\n",
    "import sys\n",
    "import os\n",
    "from dotenv import load_dotenv"
   ]
  },
  {
   "cell_type": "markdown",
   "id": "7fc59674",
   "metadata": {},
   "source": [
    "## Setup OpenAI API Key\n",
    "\n",
    "- Obtain an OpenAI API key from OpenAI's Platform https://platform.openai.com/account/api-keys\n"
   ]
  },
  {
   "cell_type": "code",
   "execution_count": null,
   "id": "3b91e450-cdcf-4dce-aa36-dd6e8a70e20d",
   "metadata": {},
   "outputs": [],
   "source": [
    "openai.api_key = 'OPENAI_API_KEY_HERE'"
   ]
  },
  {
   "cell_type": "markdown",
   "id": "4b984814-5b5d-43c6-a717-785d3fbc35a4",
   "metadata": {},
   "source": [
    "## Step 1: Validate the Fine Tuning File\n",
    "- Your fine-tuning file should be in the JSON Lines (jsonl) format. We'll use data.jsonl as a sample for training data.\n",
    "\n",
    "This code defines a function called `validate_file` that takes a filename as an argument and returns a boolean value indicating whether the file is valid or not. The function attempts to open the file and parse each line as JSON using the `json.loads()` method. If any line in the file is not valid JSON, an exception is raised and the function returns `False`. If all lines in the file are valid JSON, the function returns `True`.\n",
    "\n",
    "The code then checks if the file \"data.jsonl\" is valid by calling the `validate_file` function with the filename as an argument. If the file is not valid, the code prints an error message and exits the program using the `sys.exit()` method. If the file is valid, the code prints a message indicating that the file is valid. "
   ]
  },
  {
   "cell_type": "code",
   "execution_count": null,
   "id": "af830bcf-8229-429d-af9b-61e0e3a7c606",
   "metadata": {},
   "outputs": [],
   "source": [
    "def validate_file(filename):\n",
    "    try:\n",
    "        with open(filename, 'r') as file:\n",
    "            for line in file.readlines():\n",
    "                json.loads(line)\n",
    "            return True\n",
    "    except Exception as e:\n",
    "        print(\"Error reading file, invalid format:\", e)\n",
    "        return False\n",
    "\n",
    "if not validate_file(\"data.jsonl\"):\n",
    "    print(\"File is not valid\")\n",
    "    sys.exit()\n",
    "else:\n",
    "    print(\"\\nFile is valid...\\n\")"
   ]
  },
  {
   "cell_type": "markdown",
   "id": "b09389eb-3a3d-42ed-b2c3-1e2816b0e001",
   "metadata": {},
   "source": [
    "## Step 2: Upload File to OpenAI\n",
    "- This step uploads data.jsonl to OpenAI. This might take some time.\n",
    "\n",
    "The code creates a new file for fine-tuning a language model using the OpenAI API. It opens a file called \"data.jsonl\" in binary mode and passes it to the `openai.File.create()` method along with the purpose of \"fine-tune\". The method returns a dictionary containing information about the newly created file, which is printed to the console using the `print()` function."
   ]
  },
  {
   "cell_type": "code",
   "execution_count": null,
   "id": "7e6473dd-eb63-49cd-b667-5a904cf70238",
   "metadata": {},
   "outputs": [],
   "source": [
    "ft_file = openai.File.create(file=open(\"data.jsonl\", \"rb\"), purpose='fine-tune')\n",
    "print(ft_file)"
   ]
  },
  {
   "cell_type": "markdown",
   "id": "eadfca35-64b3-4c4e-976b-edd568688eee",
   "metadata": {},
   "source": [
    "## Step 3: Check File Status on OpenAI\n",
    "- Ensure the file status is \"processed\" before proceeding.\n",
    "\n",
    "The code defines a function called `pretty_table_s3` that takes a dictionary as an argument and prints a formatted table of information about files stored on the OpenAI API. The function prints a header row and separator line, and then iterates over each file in the dictionary and prints a row for each file using a specified format. \n",
    "\n",
    "The code then calls the `openai.File.list()` method to retrieve a list of files stored on the OpenAI API, with a limit of 25 files. The resulting list of files is passed to the `pretty_table_s3` function, which prints a formatted table of information about the files. "
   ]
  },
  {
   "cell_type": "code",
   "execution_count": null,
   "id": "caa447f9-1430-4ea4-a975-c17d3ece165a",
   "metadata": {},
   "outputs": [],
   "source": [
    "def pretty_table_s3(f):\n",
    "    header = ['ID', 'Purpose', 'Status', 'Created At']\n",
    "    row_format = \"{:<33} {:<20} {:<12} {}\"\n",
    "    print(row_format.format(*header))\n",
    "    print('-' * 88)\n",
    "    \n",
    "    for file in f['data']:\n",
    "        created_at = datetime.datetime.fromtimestamp(file['created_at']).strftime('%Y-%m-%d %H:%M:%S')\n",
    "        print(row_format.format(file['id'], file['purpose'], file['status'], created_at))\n",
    "\n",
    "file_list = openai.File.list(limit=25)\n",
    "pretty_table_s3(file_list)"
   ]
  },
  {
   "cell_type": "markdown",
   "id": "307b4acb-cc9e-4e8d-bbfd-1ed0b4d09265",
   "metadata": {},
   "source": [
    "## Step 4: Start Fine Tuning at OpenAI\n",
    "- Ensure the file status is \"processed\", then initiate the fine-tuning\n",
    "\n",
    "The code checks the status of a file that was previously created for fine-tuning using the OpenAI API. If the status of the file is \"processed\", the code creates a new fine-tuning job using the `openai.FineTuningJob.create()` method, passing in the ID of the training file to be used for fine-tuning and the name of the model to be used. The resulting information about the fine-tuning job is printed to the console using the `print()` function. If the status of the file is not \"processed\", the code prints a message indicating that it is still waiting for the file to be processed."
   ]
  },
  {
   "cell_type": "code",
   "execution_count": null,
   "id": "3c8fb7bf-6d38-4495-a641-0c69c5308dab",
   "metadata": {},
   "outputs": [],
   "source": [
    "file_status = openai.File.retrieve(ft_file[\"id\"])\n",
    "if file_status[\"status\"] == \"processed\":\n",
    "    TRAINING_FILE_ID = ft_file[\"id\"]\n",
    "    ft_job = openai.FineTuningJob.create(training_file=TRAINING_FILE_ID, model=\"gpt-3.5-turbo-0613\")\n",
    "    print(ft_job)\n",
    "else:\n",
    "    print(f\"\\nHOLD...Still waiting on STATUS: {file_status['status']}\\n\")\n"
   ]
  },
  {
   "cell_type": "markdown",
   "id": "eaf9905a-a2d5-4440-8832-58550ec56029",
   "metadata": {},
   "source": [
    "## Step 5: Check Fine Tuning Model Status\n",
    "- Wait until the status is \"succeeded\".\n",
    "\n",
    "The code defines a function called `pretty_table_s5` that takes a dictionary as an argument and prints a formatted table of information about fine-tuning jobs for language models stored on the OpenAI API. The function prints a header row and separator line, and then iterates over each job in the dictionary and prints a row for each job using a specified format. \n",
    "\n",
    "The code then calls the `openai.FineTuningJob.list()` method to retrieve a list of fine-tuning jobs stored on the OpenAI API, with a limit of 25 jobs. The resulting list of jobs is passed to the `pretty_table_s5` function, which prints a formatted table of information about the jobs.\n",
    "\n",
    "The code then retrieves the status of a fine-tuning job using the `openai.FineTuningJob.retrieve()` method. The ID of the job is stored in the `fine_tuning_job` variable. If the status of the job is \"succeeded\", the code retrieves the ID of the fine-tuned model using the `fine_tuned_model` key in the dictionary returned by the `openai.FineTuningJob.retrieve()` method. The ID of the model is stored in the `model_id` variable, and a message is printed to the console indicating that the model has been created and providing the ID. If the status of the job is not \"succeeded\", the code prints a message indicating that it is still waiting for the model to be created and providing instructions not to proceed until the model ID is available."
   ]
  },
  {
   "cell_type": "code",
   "execution_count": null,
   "id": "4c9c5b13-bfdc-4120-a9cb-bef20f078895",
   "metadata": {},
   "outputs": [],
   "source": [
    "def pretty_table_s5(f):\n",
    "    header = ['ID', 'Created At', 'Finished At', 'Status', 'Fine Tuned Model']\n",
    "    row_format = \"{:<33} {:<22} {:<22} {:<13} {}\"\n",
    "    print(row_format.format(*header))\n",
    "    print('-' * 140)\n",
    "    \n",
    "    for job in f['data']:\n",
    "        created_at = datetime.datetime.fromtimestamp(job['created_at']).strftime('%Y-%m-%d %H:%M:%S')\n",
    "        finished_at = datetime.datetime.fromtimestamp(job.get('finished_at', '')).strftime('%Y-%m-%d %H:%M:%S') if job['finished_at'] else ''\n",
    "        print(row_format.format(job['id'], created_at, finished_at, job['status'], job['fine_tuned_model']))\n",
    "\n",
    "job_list = openai.FineTuningJob.list(limit=25)\n",
    "pretty_table_s5(job_list)\n",
    "\n",
    "fine_tuning_job = ft_job[\"id\"]\n",
    "model_status = openai.FineTuningJob.retrieve(fine_tuning_job)\n",
    "model_id = None\n",
    "if model_status[\"status\"] == \"succeeded\":\n",
    "    model_id = model_status[\"fine_tuned_model\"]\n",
    "    print(f\"\\nModel created, Model ID: {model_id}\")\n",
    "else:\n",
    "    print(\"\\n***** DO NOT PROCEED YET *****\\nStill waiting for the model... We need that ID\")\n"
   ]
  },
  {
   "cell_type": "markdown",
   "id": "28e257a5-55c2-489e-910c-d534fd61fa2e",
   "metadata": {},
   "source": [
    "## Step 6: Test the Fine-Tuned Model\n",
    "- Step 5 must have completed successfully with a model ID before proceeding.\n",
    "\n",
    "The code checks if a `model_id` variable is defined. If the variable is defined, the code generates a response to a customer service message using the OpenAI API. The response is generated using the `openai.ChatCompletion.create()` method, which takes the ID of the model to be used, the temperature of the response, and a list of messages to be used as context for the response. The response is printed to the console using the `print()` function.\n",
    "\n",
    "If the `model_id` variable is not defined, the code prints a message indicating that the model is not ready and providing instructions for obtaining the model ID.\n"
   ]
  },
  {
   "cell_type": "code",
   "execution_count": null,
   "id": "81e7182f-6372-4eb9-ae9b-4366be19f5e8",
   "metadata": {},
   "outputs": [],
   "source": [
    "if model_id:\n",
    "    completion = openai.ChatCompletion.create(\n",
    "        model=model_id,\n",
    "        temperature=0.0,\n",
    "        messages=[\n",
    "            {\"role\": \"system\", \"content\": \"You are a helpful and professional customer service representative\"},\n",
    "            {\"role\": \"user\", \"content\": \"dude, i need to mail you a check, what is your address?\"}\n",
    "        ]\n",
    "    )\n",
    "    print(completion.choices[0].message.content)\n",
    "else:\n",
    "    print(\"The model isn't ready yet... You need to ensure the model is ready and obtain the model ID.\")\n"
   ]
  }
 ],
 "metadata": {
  "kernelspec": {
   "display_name": "Python 3 (ipykernel)",
   "language": "python",
   "name": "python3"
  },
  "language_info": {
   "codemirror_mode": {
    "name": "ipython",
    "version": 3
   },
   "file_extension": ".py",
   "mimetype": "text/x-python",
   "name": "python",
   "nbconvert_exporter": "python",
   "pygments_lexer": "ipython3",
   "version": "3.11.5"
  }
 },
 "nbformat": 4,
 "nbformat_minor": 5
}

{
 "cells": [
  {
   "cell_type": "markdown",
   "id": "6945bf1d-21a8-4b29-900a-a9254b766385",
   "metadata": {},
   "source": [
    "# Open AI Fine Tuning"
   ]
  },
  {
   "cell_type": "markdown",
   "id": "42b51167",
   "metadata": {},
   "source": [
    "pip commands needed to run this notebook:"
   ]
  },
  {
   "cell_type": "code",
   "execution_count": null,
   "id": "5d039a03-3e6e-4cd1-9f69-043b4dec5d2c",
   "metadata": {},
   "outputs": [],
   "source": [
    "!pip3 install openai\n",
    "!pip3 install python-dotenv"
   ]
  },
  {
   "cell_type": "markdown",
   "id": "bb554cce",
   "metadata": {},
   "source": [
    "Importing Libraries"
   ]
  },
  {
   "cell_type": "code",
   "execution_count": null,
   "id": "afb40373-7f6f-49cd-8650-b839f0af1f02",
   "metadata": {},
   "outputs": [],
   "source": [
    "import json\n",
    "import openai\n",
    "import datetime\n",
    "import sys\n",
    "import os"
   ]
  },
  {
   "cell_type": "markdown",
   "id": "7fc59674",
   "metadata": {},
   "source": [
    "## Open AI / ChatGPT\n",
    "\n",
    "Make sure to get an OpenAI key from https://platform.openai.com/account/api-keys\n",
    "\n",
    "Create a \".env\" file and put your OpenAI key in that file\n",
    "```bash\n",
    "OPENAI_API_KEY='your_key_here'\n",
    "```"
   ]
  },
  {
   "cell_type": "code",
   "execution_count": null,
   "id": "3b91e450-cdcf-4dce-aa36-dd6e8a70e20d",
   "metadata": {},
   "outputs": [],
   "source": [
    "# get keys from .env file (need to create .env file and put key in there.\n",
    "\n",
    "from dotenv import load_dotenv\n",
    "load_dotenv()\n",
    "openai.api_key = os.getenv('OPENAI_API_KEY')"
   ]
  },
  {
   "cell_type": "markdown",
   "id": "4b984814-5b5d-43c6-a717-785d3fbc35a4",
   "metadata": {},
   "source": [
    "## Step 1: Fine Tuning File\n",
    "- Your fine tuning file must in the the format of JSON Lines (jsonl) \n",
    "- Sample file is provided (data.jsonl) will be used as the training data\n",
    "- We will validate the file before uploading to openai"
   ]
  },
  {
   "cell_type": "code",
   "execution_count": null,
   "id": "af830bcf-8229-429d-af9b-61e0e3a7c606",
   "metadata": {},
   "outputs": [],
   "source": [
    "def validate_file(filename):\n",
    "    try:\n",
    "        with open(filename, 'r') as file:\n",
    "            lines = file.readlines()\n",
    "            the_file = [json.loads(line) for line in lines]\n",
    "            return True\n",
    "    except Exception as e:\n",
    "        print(\"Error reading file, invalid format: \", e)\n",
    "        return False"
   ]
  },
  {
   "cell_type": "code",
   "execution_count": null,
   "id": "38d62a59-7ef9-4aeb-ad73-51f2b7e97459",
   "metadata": {},
   "outputs": [],
   "source": [
    "is_file_valid = validate_file(\"data.jsonl\")\n",
    "if is_file_valid == False:\n",
    "    print(\"File is not valid\")\n",
    "    sys.exit()\n",
    "\n",
    "print(\"\\nFile is valid...\\n\")"
   ]
  },
  {
   "cell_type": "markdown",
   "id": "b09389eb-3a3d-42ed-b2c3-1e2816b0e001",
   "metadata": {},
   "source": [
    "## Step 2: Upload File to OpenAI\n",
    "- This will upload the file data.jsonl to OpenAI\n",
    "- This will take a few minutes to complete\n",
    "- Output will be a json object with the id of the uploaded file"
   ]
  },
  {
   "cell_type": "code",
   "execution_count": null,
   "id": "7e6473dd-eb63-49cd-b667-5a904cf70238",
   "metadata": {},
   "outputs": [],
   "source": [
    "ft_file = openai.File.create(file=open(\"data.jsonl\", \"rb\"), purpose='fine-tune')\n",
    "print(ft_file)"
   ]
  },
  {
   "cell_type": "markdown",
   "id": "eadfca35-64b3-4c4e-976b-edd568688eee",
   "metadata": {},
   "source": [
    "## Step 3: File Validation at OpenAI\n",
    "- You should check the status of your fine tuning file by running the following command\n",
    "- You will not be able to proceed to the next step until the status is \"processed\""
   ]
  },
  {
   "cell_type": "code",
   "execution_count": null,
   "id": "caa447f9-1430-4ea4-a975-c17d3ece165a",
   "metadata": {},
   "outputs": [],
   "source": [
    "def pretty_table_s3(f):\n",
    "    print(f\"\\n{'ID':<33} {'Purpose':<20} {'Status':<12} {'Created At'}\")\n",
    "    print('-' * 88)\n",
    "    for file in f['data']:\n",
    "        created_at = datetime.datetime.fromtimestamp(file['created_at']).strftime('%Y-%m-%d %H:%M:%S')\n",
    "        print(f\"{file['id']:<33} {file['purpose']:<20} {file['status']:<12} {created_at}\")"
   ]
  },
  {
   "cell_type": "code",
   "execution_count": null,
   "id": "c1229a07-ca16-4ae8-9386-a1b923910cde",
   "metadata": {},
   "outputs": [],
   "source": [
    "file_list = openai.File.list(limit=25)\n",
    "# print(file_list)\n",
    "pretty_table_s3(file_list)"
   ]
  },
  {
   "cell_type": "markdown",
   "id": "307b4acb-cc9e-4e8d-bbfd-1ed0b4d09265",
   "metadata": {},
   "source": [
    "## Step 4: Create job for Fine Tuned Model at OpenAI\n",
    "- Using the ID from step 2 or 3, update the \"TRAINING_FILE_ID\" variable in step4_create_finetuned_model.py\n",
    "- Run the following command to create your fine tuned model"
   ]
  },
  {
   "cell_type": "code",
   "execution_count": null,
   "id": "3c8fb7bf-6d38-4495-a641-0c69c5308dab",
   "metadata": {},
   "outputs": [],
   "source": [
    "# check status of file\n",
    "file_status = openai.File.retrieve(ft_file[\"id\"])\n",
    "TRAINING_FILE_ID = None\n",
    "if file_status[\"status\"] == \"processed\":\n",
    "    print(f\"\\nFile processed:\")\n",
    "    TRAINING_FILE_ID = ft_file[\"id\"]\n",
    "    print(\"Training file id: \", TRAINING_FILE_ID)\n",
    "else:\n",
    "    print(f\"\\nHOLD...Still waiting on STATUS: {file_status['status']}\\n\")"
   ]
  },
  {
   "cell_type": "markdown",
   "id": "bb752e43-9077-4789-b107-3b29925f9704",
   "metadata": {},
   "source": [
    "- We will now use the training file id to create a fine tuned model\n",
    "- This could take some time based on where you are in the queue anywhere from 5 minutes to 20 minutes\n"
   ]
  },
  {
   "cell_type": "code",
   "execution_count": null,
   "id": "c5387f92-3db0-4834-a1d1-0b37b3a3381a",
   "metadata": {},
   "outputs": [],
   "source": [
    "if TRAINING_FILE_ID:\n",
    "    ft_job = openai.FineTuningJob.create(training_file=TRAINING_FILE_ID, model=\"gpt-3.5-turbo-0613\") \n",
    "    print(ft_job)  "
   ]
  },
  {
   "cell_type": "markdown",
   "id": "eaf9905a-a2d5-4440-8832-58550ec56029",
   "metadata": {},
   "source": [
    "## Step 5: Model Validation at OpenAI\n",
    "- You should check the status of your fine tuned model by running the following command\n",
    "- You will not be able to proceed to the next step until the status is \"succeeded\" and Fine Tuned Model has a value.\n",
    "- You will also receive an email from OpenAI when the model is ready or run the following command to check the status"
   ]
  },
  {
   "cell_type": "code",
   "execution_count": null,
   "id": "4c9c5b13-bfdc-4120-a9cb-bef20f078895",
   "metadata": {},
   "outputs": [],
   "source": [
    "def pretty_table_s5(f):\n",
    "    print(f\"\\n{'ID':<33} {'Created At':<22} {'Finished At':<22} {'Status':<13} {'Fine Tuned Model'} \")\n",
    "    print('-' * 140)\n",
    "    for job in f['data']:\n",
    "        created_at = datetime.datetime.fromtimestamp(job['created_at']).strftime('%Y-%m-%d %H:%M:%S')\n",
    "        finished_at = \"\"\n",
    "        if job['finished_at']:\n",
    "            finished_at = datetime.datetime.fromtimestamp(job['finished_at']).strftime('%Y-%m-%d %H:%M:%S')\n",
    "\n",
    "        print(f\"{job['id']:<33} {created_at:<22} {finished_at:<22} {job['status']:<13} {job['fine_tuned_model']} \")"
   ]
  },
  {
   "cell_type": "code",
   "execution_count": null,
   "id": "5b2622e0-0777-44c0-ae1d-a6741e06e2f2",
   "metadata": {},
   "outputs": [],
   "source": [
    "job_list = openai.FineTuningJob.list(limit=25)\n",
    "# print(job_list)\n",
    "pretty_table_s5(job_list)"
   ]
  },
  {
   "cell_type": "code",
   "execution_count": null,
   "id": "4339ace4-9a0c-47a2-8dbb-27c9f28d382a",
   "metadata": {},
   "outputs": [],
   "source": [
    "fine_tuning_job = ft_job[\"id\"]\n",
    "print(\"fine_tuning_job = \" + fine_tuning_job)\n",
    "model_status = openai.FineTuningJob.retrieve(fine_tuning_job)\n",
    "model_id = None\n",
    "if model_status[\"status\"] == \"succeeded\":\n",
    "    model_id = model_status[\"fine_tuned_model\"]\n",
    "    print(f\"\\nFinally... Model created, Model ID: {model_id}\")\n",
    "else:\n",
    "    print(\"\\n***** DO NOT PROCEED YET *****\\nStill waiting for fine tuned model... We need that ID\")\n",
    "\n"
   ]
  },
  {
   "cell_type": "markdown",
   "id": "28e257a5-55c2-489e-910c-d534fd61fa2e",
   "metadata": {},
   "source": [
    "## Step 6: Test New Model\n",
    "- Using the Fine Tuned Model ID from step 4 or 5, update the \"FINE_TUNED_MODEL_ID\" variable in step6_test_finetuned_model.py\n",
    "- Run the following command to test your new model\n",
    "- You will need to use the FINE_TUNED_MODEL_ID with the one you got from the previous step."
   ]
  },
  {
   "cell_type": "code",
   "execution_count": null,
   "id": "81e7182f-6372-4eb9-ae9b-4366be19f5e8",
   "metadata": {},
   "outputs": [],
   "source": [
    "if model_id:\n",
    "    FINE_TUNED_MODEL_ID = model_id\n",
    "    print(\"FINE_TUNED_MODEL_ID = \" + FINE_TUNED_MODEL_ID)\n",
    "    completion = openai.ChatCompletion.create(\n",
    "        model=FINE_TUNED_MODEL_ID,\n",
    "        temperature=0.0,\n",
    "        messages=[\n",
    "            {\"role\": \"system\", \"content\": \"You are a helpful and professional customer service representative\"},\n",
    "            {\"role\": \"user\", \"content\": \"dude, i need to mail you a check, what is your address?\"},\n",
    "        ]\n",
    "    )\n",
    "    \n",
    "    print(completion.choices[0].message)\n",
    "else:\n",
    "    print(\"fine tuned model is not ready... need to run previous step until model is ready... Need that model id \")"
   ]
  }
 ],
 "metadata": {
  "kernelspec": {
   "display_name": "Python 3 (ipykernel)",
   "language": "python",
   "name": "python3"
  },
  "language_info": {
   "codemirror_mode": {
    "name": "ipython",
    "version": 3
   },
   "file_extension": ".py",
   "mimetype": "text/x-python",
   "name": "python",
   "nbconvert_exporter": "python",
   "pygments_lexer": "ipython3",
   "version": "3.11.5"
  }
 },
 "nbformat": 4,
 "nbformat_minor": 5
}
